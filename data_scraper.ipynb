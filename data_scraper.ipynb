{
 "cells": [
  {
   "cell_type": "code",
   "execution_count": 35,
   "metadata": {},
   "outputs": [],
   "source": [
    "import json\n",
    "import requests\n",
    "import pandas as pd\n",
    "import datetime as dt\n",
    "\n",
    "from tqdm.notebook import tqdm"
   ]
  },
  {
   "cell_type": "code",
   "execution_count": 36,
   "metadata": {},
   "outputs": [
    {
     "name": "stdout",
     "output_type": "stream",
     "text": [
      "2021-05-23\n"
     ]
    }
   ],
   "source": [
    "data_hoje = dt.date.today()\n",
    "data_hoje = str(data_hoje)\n",
    "print(data_hoje)"
   ]
  },
  {
   "cell_type": "code",
   "execution_count": 37,
   "metadata": {},
   "outputs": [
    {
     "name": "stdout",
     "output_type": "stream",
     "text": [
      "<Response [200]>\n"
     ]
    }
   ],
   "source": [
    "resposta = requests.get('https://api.helium.io/v1/hotspots')\n",
    "print(str(resposta))\n",
    "dados = resposta.json()\n",
    "cursor = dados['cursor']\n",
    "hotspots = dados['data']\n"
   ]
  },
  {
   "cell_type": "code",
   "execution_count": 38,
   "metadata": {},
   "outputs": [
    {
     "name": "stdout",
     "output_type": "stream",
     "text": [
      "<Response [200]>\n",
      "2000\n",
      "<Response [200]>\n",
      "3000\n",
      "<Response [200]>\n",
      "4000\n",
      "<Response [200]>\n",
      "5000\n",
      "<Response [200]>\n",
      "6000\n",
      "<Response [200]>\n",
      "7000\n",
      "<Response [200]>\n",
      "8000\n",
      "<Response [200]>\n",
      "9000\n",
      "<Response [200]>\n",
      "10000\n",
      "<Response [200]>\n",
      "11000\n",
      "<Response [200]>\n",
      "12000\n",
      "<Response [200]>\n",
      "13000\n",
      "<Response [200]>\n",
      "14000\n",
      "<Response [200]>\n",
      "15000\n",
      "<Response [200]>\n",
      "16000\n",
      "<Response [200]>\n",
      "17000\n",
      "<Response [200]>\n",
      "18000\n",
      "<Response [200]>\n",
      "19000\n",
      "<Response [200]>\n",
      "20000\n",
      "<Response [200]>\n",
      "21000\n",
      "<Response [200]>\n",
      "22000\n",
      "<Response [200]>\n",
      "23000\n",
      "<Response [200]>\n",
      "24000\n",
      "<Response [200]>\n",
      "25000\n",
      "<Response [200]>\n",
      "26000\n",
      "<Response [200]>\n",
      "27000\n",
      "<Response [200]>\n",
      "28000\n",
      "<Response [200]>\n",
      "29000\n",
      "<Response [200]>\n",
      "30000\n",
      "<Response [200]>\n",
      "31000\n",
      "<Response [200]>\n",
      "32000\n",
      "<Response [200]>\n",
      "33000\n",
      "<Response [200]>\n",
      "34000\n",
      "<Response [200]>\n",
      "35000\n",
      "<Response [200]>\n",
      "36000\n",
      "<Response [200]>\n",
      "37000\n",
      "<Response [200]>\n",
      "38000\n",
      "<Response [200]>\n",
      "39000\n",
      "<Response [200]>\n",
      "40000\n",
      "<Response [200]>\n",
      "41000\n",
      "<Response [200]>\n"
     ]
    }
   ],
   "source": [
    "while str(resposta) == '<Response [200]>':\n",
    "    resposta = requests.get('https://api.helium.io/v1/hotspots?cursor=' + cursor)\n",
    "    print(resposta)\n",
    "    dados = resposta.json()\n",
    "    hotspots += dados['data']\n",
    "    try: cursor = dados['cursor']\n",
    "    except KeyError: break\n",
    "    print(len(hotspots))\n"
   ]
  },
  {
   "cell_type": "code",
   "execution_count": null,
   "metadata": {},
   "outputs": [],
   "source": [
    "# criação da planilha do Excel com os dados brutos dos hotspots\n",
    "hotspots_dataframe = pd.DataFrame(hotspots)\n",
    "writer = pd.ExcelWriter('hotspots_bruto.xlsx')\n",
    "hotspots_dataframe.to_excel(writer)\n",
    "writer.save()\n",
    "hotspots_dataframe\n"
   ]
  },
  {
   "cell_type": "code",
   "execution_count": 42,
   "metadata": {},
   "outputs": [
    {
     "name": "stdout",
     "output_type": "stream",
     "text": [
      "856996\n"
     ]
    }
   ],
   "source": [
    "# filtragem dos hotspots \"inativos\"\n",
    "bloco_atual = requests.get('https://api.helium.io/v1/blocks/height').json()['data']['height']\n",
    "print(bloco_atual)\n"
   ]
  },
  {
   "cell_type": "code",
   "execution_count": 57,
   "metadata": {},
   "outputs": [
    {
     "name": "stdout",
     "output_type": "stream",
     "text": [
      "7556\n"
     ]
    }
   ],
   "source": [
    "tolerancia = 32\n",
    "hotspots_relevantes = list()\n",
    "for hotspot in hotspots:\n",
    "    altura = hotspot['status']['height']\n",
    "    if altura != None:\n",
    "        if altura >= bloco_atual - tolerancia: hotspots_relevantes.append(hotspot)\n",
    "\n",
    "print(len(hotspots_relevantes))\n"
   ]
  },
  {
   "cell_type": "code",
   "execution_count": null,
   "metadata": {},
   "outputs": [
    {
     "data": {
      "application/vnd.jupyter.widget-view+json": {
       "model_id": "be5e645c9f79464e904bdb0e62cebb6a",
       "version_major": 2,
       "version_minor": 0
      },
      "text/plain": [
       "HBox(children=(IntProgress(value=0, max=7556), HTML(value='')))"
      ]
     },
     "metadata": {},
     "output_type": "display_data"
    }
   ],
   "source": [
    "hotspots_dados = list()\n",
    "max_time = \"%sT00:00:00Z\" % data_hoje\n",
    "\n",
    "indice = 0\n",
    "for hotspot in tqdm(hotspots_relevantes):\n",
    "    \n",
    "    dados = dict()\n",
    "    dados['nome'] = hotspot['name']\n",
    "    dados['data'] = hotspot['timestamp_added']\n",
    "    dados['endereco'] = hotspot['address']\n",
    "    dados['altura'] = hotspot['status']['height']\n",
    "    \n",
    "    endereco = dados['endereco']\n",
    "    params = {'max_time': max_time, 'min_time': \"2018-08-27T00:00:00Z\"}\n",
    "    dados_retorno = requests.get('https://api.helium.io/v1/hotspots/:%s/rewards/sum' % endereco, params)\n",
    "    dados_retorno = dados_retorno.json()['data']\n",
    "    \n",
    "    dados.update(dados_retorno)\n",
    "    \n",
    "    hotspots_dados.append(dados)\n",
    "    \n",
    "    if indice % 50 == 0:\n",
    "        with open('hotspots_dados.json', 'w') as file:\n",
    "            json.dump({'dados': hotspots_dados}, file)\n",
    "    \n",
    "    indice += 1\n",
    "    \n",
    "hotspots_dataframe = pd.DataFrame(hotspots_dados)\n",
    "writer = pd.ExcelWriter('hotspots_dados.xlsx')\n",
    "hotspots_dataframe.to_excel(writer)\n",
    "writer.save()\n",
    "hotspots_dados\n",
    "    "
   ]
  },
  {
   "cell_type": "code",
   "execution_count": null,
   "metadata": {},
   "outputs": [],
   "source": []
  }
 ],
 "metadata": {
  "kernelspec": {
   "display_name": "Python 3",
   "language": "python",
   "name": "python3"
  },
  "language_info": {
   "codemirror_mode": {
    "name": "ipython",
    "version": 3
   },
   "file_extension": ".py",
   "mimetype": "text/x-python",
   "name": "python",
   "nbconvert_exporter": "python",
   "pygments_lexer": "ipython3",
   "version": "3.7.4"
  }
 },
 "nbformat": 4,
 "nbformat_minor": 2
}
